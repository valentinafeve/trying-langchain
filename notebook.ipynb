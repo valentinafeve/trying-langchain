{
  "nbformat": 4,
  "nbformat_minor": 0,
  "metadata": {
    "colab": {
      "provenance": []
    },
    "kernelspec": {
      "name": "python3",
      "display_name": "Python 3"
    },
    "language_info": {
      "name": "python"
    }
  },
  "cells": [
    {
      "cell_type": "code",
      "source": [
        "!pip install -U langchain-community\n",
        "!pip install youtube-transcript-api\n",
        "!pip install pytube\n",
        "!pip install tiktoken\n",
        "!pip install -qU langchain-cohere\n",
        "!pip install chromadb\n",
        "!pip install lark"
      ],
      "metadata": {
        "colab": {
          "base_uri": "https://localhost:8080/",
          "height": 1000
        },
        "id": "wROQdkuwi1EJ",
        "outputId": "11bcfb35-1ce5-4ed6-e30e-e53ef817a28c"
      },
      "execution_count": null,
      "outputs": [
        {
          "output_type": "stream",
          "name": "stdout",
          "text": [
            "Collecting langchain-community\n",
            "  Downloading langchain_community-0.3.23-py3-none-any.whl.metadata (2.5 kB)\n",
            "Requirement already satisfied: langchain-core<1.0.0,>=0.3.56 in /usr/local/lib/python3.11/dist-packages (from langchain-community) (0.3.56)\n",
            "Requirement already satisfied: langchain<1.0.0,>=0.3.24 in /usr/local/lib/python3.11/dist-packages (from langchain-community) (0.3.24)\n",
            "Requirement already satisfied: SQLAlchemy<3,>=1.4 in /usr/local/lib/python3.11/dist-packages (from langchain-community) (2.0.40)\n",
            "Requirement already satisfied: requests<3,>=2 in /usr/local/lib/python3.11/dist-packages (from langchain-community) (2.32.3)\n",
            "Requirement already satisfied: PyYAML>=5.3 in /usr/local/lib/python3.11/dist-packages (from langchain-community) (6.0.2)\n",
            "Requirement already satisfied: aiohttp<4.0.0,>=3.8.3 in /usr/local/lib/python3.11/dist-packages (from langchain-community) (3.11.15)\n",
            "Requirement already satisfied: tenacity!=8.4.0,<10,>=8.1.0 in /usr/local/lib/python3.11/dist-packages (from langchain-community) (9.1.2)\n",
            "Collecting dataclasses-json<0.7,>=0.5.7 (from langchain-community)\n",
            "  Downloading dataclasses_json-0.6.7-py3-none-any.whl.metadata (25 kB)\n",
            "Collecting pydantic-settings<3.0.0,>=2.4.0 (from langchain-community)\n",
            "  Downloading pydantic_settings-2.9.1-py3-none-any.whl.metadata (3.8 kB)\n",
            "Requirement already satisfied: langsmith<0.4,>=0.1.125 in /usr/local/lib/python3.11/dist-packages (from langchain-community) (0.3.39)\n",
            "Collecting httpx-sse<1.0.0,>=0.4.0 (from langchain-community)\n",
            "  Downloading httpx_sse-0.4.0-py3-none-any.whl.metadata (9.0 kB)\n",
            "Requirement already satisfied: numpy>=1.26.2 in /usr/local/lib/python3.11/dist-packages (from langchain-community) (2.0.2)\n",
            "Requirement already satisfied: aiohappyeyeballs>=2.3.0 in /usr/local/lib/python3.11/dist-packages (from aiohttp<4.0.0,>=3.8.3->langchain-community) (2.6.1)\n",
            "Requirement already satisfied: aiosignal>=1.1.2 in /usr/local/lib/python3.11/dist-packages (from aiohttp<4.0.0,>=3.8.3->langchain-community) (1.3.2)\n",
            "Requirement already satisfied: attrs>=17.3.0 in /usr/local/lib/python3.11/dist-packages (from aiohttp<4.0.0,>=3.8.3->langchain-community) (25.3.0)\n",
            "Requirement already satisfied: frozenlist>=1.1.1 in /usr/local/lib/python3.11/dist-packages (from aiohttp<4.0.0,>=3.8.3->langchain-community) (1.6.0)\n",
            "Requirement already satisfied: multidict<7.0,>=4.5 in /usr/local/lib/python3.11/dist-packages (from aiohttp<4.0.0,>=3.8.3->langchain-community) (6.4.3)\n",
            "Requirement already satisfied: propcache>=0.2.0 in /usr/local/lib/python3.11/dist-packages (from aiohttp<4.0.0,>=3.8.3->langchain-community) (0.3.1)\n",
            "Requirement already satisfied: yarl<2.0,>=1.17.0 in /usr/local/lib/python3.11/dist-packages (from aiohttp<4.0.0,>=3.8.3->langchain-community) (1.20.0)\n",
            "Collecting marshmallow<4.0.0,>=3.18.0 (from dataclasses-json<0.7,>=0.5.7->langchain-community)\n",
            "  Downloading marshmallow-3.26.1-py3-none-any.whl.metadata (7.3 kB)\n",
            "Collecting typing-inspect<1,>=0.4.0 (from dataclasses-json<0.7,>=0.5.7->langchain-community)\n",
            "  Downloading typing_inspect-0.9.0-py3-none-any.whl.metadata (1.5 kB)\n",
            "Requirement already satisfied: langchain-text-splitters<1.0.0,>=0.3.8 in /usr/local/lib/python3.11/dist-packages (from langchain<1.0.0,>=0.3.24->langchain-community) (0.3.8)\n",
            "Requirement already satisfied: pydantic<3.0.0,>=2.7.4 in /usr/local/lib/python3.11/dist-packages (from langchain<1.0.0,>=0.3.24->langchain-community) (2.11.4)\n",
            "Requirement already satisfied: jsonpatch<2.0,>=1.33 in /usr/local/lib/python3.11/dist-packages (from langchain-core<1.0.0,>=0.3.56->langchain-community) (1.33)\n",
            "Requirement already satisfied: packaging<25,>=23.2 in /usr/local/lib/python3.11/dist-packages (from langchain-core<1.0.0,>=0.3.56->langchain-community) (24.2)\n",
            "Requirement already satisfied: typing-extensions>=4.7 in /usr/local/lib/python3.11/dist-packages (from langchain-core<1.0.0,>=0.3.56->langchain-community) (4.13.2)\n",
            "Requirement already satisfied: httpx<1,>=0.23.0 in /usr/local/lib/python3.11/dist-packages (from langsmith<0.4,>=0.1.125->langchain-community) (0.28.1)\n",
            "Requirement already satisfied: orjson<4.0.0,>=3.9.14 in /usr/local/lib/python3.11/dist-packages (from langsmith<0.4,>=0.1.125->langchain-community) (3.10.18)\n",
            "Requirement already satisfied: requests-toolbelt<2.0.0,>=1.0.0 in /usr/local/lib/python3.11/dist-packages (from langsmith<0.4,>=0.1.125->langchain-community) (1.0.0)\n",
            "Requirement already satisfied: zstandard<0.24.0,>=0.23.0 in /usr/local/lib/python3.11/dist-packages (from langsmith<0.4,>=0.1.125->langchain-community) (0.23.0)\n",
            "Collecting python-dotenv>=0.21.0 (from pydantic-settings<3.0.0,>=2.4.0->langchain-community)\n",
            "  Downloading python_dotenv-1.1.0-py3-none-any.whl.metadata (24 kB)\n",
            "Requirement already satisfied: typing-inspection>=0.4.0 in /usr/local/lib/python3.11/dist-packages (from pydantic-settings<3.0.0,>=2.4.0->langchain-community) (0.4.0)\n",
            "Requirement already satisfied: charset-normalizer<4,>=2 in /usr/local/lib/python3.11/dist-packages (from requests<3,>=2->langchain-community) (3.4.1)\n",
            "Requirement already satisfied: idna<4,>=2.5 in /usr/local/lib/python3.11/dist-packages (from requests<3,>=2->langchain-community) (3.10)\n",
            "Requirement already satisfied: urllib3<3,>=1.21.1 in /usr/local/lib/python3.11/dist-packages (from requests<3,>=2->langchain-community) (2.4.0)\n",
            "Requirement already satisfied: certifi>=2017.4.17 in /usr/local/lib/python3.11/dist-packages (from requests<3,>=2->langchain-community) (2025.4.26)\n",
            "Requirement already satisfied: greenlet>=1 in /usr/local/lib/python3.11/dist-packages (from SQLAlchemy<3,>=1.4->langchain-community) (3.2.1)\n",
            "Requirement already satisfied: anyio in /usr/local/lib/python3.11/dist-packages (from httpx<1,>=0.23.0->langsmith<0.4,>=0.1.125->langchain-community) (4.9.0)\n",
            "Requirement already satisfied: httpcore==1.* in /usr/local/lib/python3.11/dist-packages (from httpx<1,>=0.23.0->langsmith<0.4,>=0.1.125->langchain-community) (1.0.9)\n",
            "Requirement already satisfied: h11>=0.16 in /usr/local/lib/python3.11/dist-packages (from httpcore==1.*->httpx<1,>=0.23.0->langsmith<0.4,>=0.1.125->langchain-community) (0.16.0)\n",
            "Requirement already satisfied: jsonpointer>=1.9 in /usr/local/lib/python3.11/dist-packages (from jsonpatch<2.0,>=1.33->langchain-core<1.0.0,>=0.3.56->langchain-community) (3.0.0)\n",
            "Requirement already satisfied: annotated-types>=0.6.0 in /usr/local/lib/python3.11/dist-packages (from pydantic<3.0.0,>=2.7.4->langchain<1.0.0,>=0.3.24->langchain-community) (0.7.0)\n",
            "Requirement already satisfied: pydantic-core==2.33.2 in /usr/local/lib/python3.11/dist-packages (from pydantic<3.0.0,>=2.7.4->langchain<1.0.0,>=0.3.24->langchain-community) (2.33.2)\n",
            "Collecting mypy-extensions>=0.3.0 (from typing-inspect<1,>=0.4.0->dataclasses-json<0.7,>=0.5.7->langchain-community)\n",
            "  Downloading mypy_extensions-1.1.0-py3-none-any.whl.metadata (1.1 kB)\n",
            "Requirement already satisfied: sniffio>=1.1 in /usr/local/lib/python3.11/dist-packages (from anyio->httpx<1,>=0.23.0->langsmith<0.4,>=0.1.125->langchain-community) (1.3.1)\n",
            "Downloading langchain_community-0.3.23-py3-none-any.whl (2.5 MB)\n",
            "\u001b[2K   \u001b[90m━━━━━━━━━━━━━━━━━━━━━━━━━━━━━━━━━━━━━━━━\u001b[0m \u001b[32m2.5/2.5 MB\u001b[0m \u001b[31m20.5 MB/s\u001b[0m eta \u001b[36m0:00:00\u001b[0m\n",
            "\u001b[?25hDownloading dataclasses_json-0.6.7-py3-none-any.whl (28 kB)\n",
            "Downloading httpx_sse-0.4.0-py3-none-any.whl (7.8 kB)\n",
            "Downloading pydantic_settings-2.9.1-py3-none-any.whl (44 kB)\n",
            "\u001b[2K   \u001b[90m━━━━━━━━━━━━━━━━━━━━━━━━━━━━━━━━━━━━━━━━\u001b[0m \u001b[32m44.4/44.4 kB\u001b[0m \u001b[31m2.5 MB/s\u001b[0m eta \u001b[36m0:00:00\u001b[0m\n",
            "\u001b[?25hDownloading marshmallow-3.26.1-py3-none-any.whl (50 kB)\n",
            "\u001b[2K   \u001b[90m━━━━━━━━━━━━━━━━━━━━━━━━━━━━━━━━━━━━━━━━\u001b[0m \u001b[32m50.9/50.9 kB\u001b[0m \u001b[31m2.8 MB/s\u001b[0m eta \u001b[36m0:00:00\u001b[0m\n",
            "\u001b[?25hDownloading python_dotenv-1.1.0-py3-none-any.whl (20 kB)\n",
            "Downloading typing_inspect-0.9.0-py3-none-any.whl (8.8 kB)\n",
            "Downloading mypy_extensions-1.1.0-py3-none-any.whl (5.0 kB)\n",
            "Installing collected packages: python-dotenv, mypy-extensions, marshmallow, httpx-sse, typing-inspect, pydantic-settings, dataclasses-json, langchain-community\n",
            "Successfully installed dataclasses-json-0.6.7 httpx-sse-0.4.0 langchain-community-0.3.23 marshmallow-3.26.1 mypy-extensions-1.1.0 pydantic-settings-2.9.1 python-dotenv-1.1.0 typing-inspect-0.9.0\n",
            "Collecting youtube-transcript-api\n",
            "  Downloading youtube_transcript_api-1.0.3-py3-none-any.whl.metadata (23 kB)\n",
            "Requirement already satisfied: defusedxml<0.8.0,>=0.7.1 in /usr/local/lib/python3.11/dist-packages (from youtube-transcript-api) (0.7.1)\n",
            "Requirement already satisfied: requests in /usr/local/lib/python3.11/dist-packages (from youtube-transcript-api) (2.32.3)\n",
            "Requirement already satisfied: charset-normalizer<4,>=2 in /usr/local/lib/python3.11/dist-packages (from requests->youtube-transcript-api) (3.4.1)\n",
            "Requirement already satisfied: idna<4,>=2.5 in /usr/local/lib/python3.11/dist-packages (from requests->youtube-transcript-api) (3.10)\n",
            "Requirement already satisfied: urllib3<3,>=1.21.1 in /usr/local/lib/python3.11/dist-packages (from requests->youtube-transcript-api) (2.4.0)\n",
            "Requirement already satisfied: certifi>=2017.4.17 in /usr/local/lib/python3.11/dist-packages (from requests->youtube-transcript-api) (2025.4.26)\n",
            "Downloading youtube_transcript_api-1.0.3-py3-none-any.whl (2.2 MB)\n",
            "\u001b[2K   \u001b[90m━━━━━━━━━━━━━━━━━━━━━━━━━━━━━━━━━━━━━━━━\u001b[0m \u001b[32m2.2/2.2 MB\u001b[0m \u001b[31m22.5 MB/s\u001b[0m eta \u001b[36m0:00:00\u001b[0m\n",
            "\u001b[?25hInstalling collected packages: youtube-transcript-api\n",
            "Successfully installed youtube-transcript-api-1.0.3\n",
            "Collecting pytube\n",
            "  Downloading pytube-15.0.0-py3-none-any.whl.metadata (5.0 kB)\n",
            "Downloading pytube-15.0.0-py3-none-any.whl (57 kB)\n",
            "\u001b[2K   \u001b[90m━━━━━━━━━━━━━━━━━━━━━━━━━━━━━━━━━━━━━━━━\u001b[0m \u001b[32m57.6/57.6 kB\u001b[0m \u001b[31m2.0 MB/s\u001b[0m eta \u001b[36m0:00:00\u001b[0m\n",
            "\u001b[?25hInstalling collected packages: pytube\n",
            "Successfully installed pytube-15.0.0\n",
            "Collecting tiktoken\n",
            "  Downloading tiktoken-0.9.0-cp311-cp311-manylinux_2_17_x86_64.manylinux2014_x86_64.whl.metadata (6.7 kB)\n",
            "Requirement already satisfied: regex>=2022.1.18 in /usr/local/lib/python3.11/dist-packages (from tiktoken) (2024.11.6)\n",
            "Requirement already satisfied: requests>=2.26.0 in /usr/local/lib/python3.11/dist-packages (from tiktoken) (2.32.3)\n",
            "Requirement already satisfied: charset-normalizer<4,>=2 in /usr/local/lib/python3.11/dist-packages (from requests>=2.26.0->tiktoken) (3.4.1)\n",
            "Requirement already satisfied: idna<4,>=2.5 in /usr/local/lib/python3.11/dist-packages (from requests>=2.26.0->tiktoken) (3.10)\n",
            "Requirement already satisfied: urllib3<3,>=1.21.1 in /usr/local/lib/python3.11/dist-packages (from requests>=2.26.0->tiktoken) (2.4.0)\n",
            "Requirement already satisfied: certifi>=2017.4.17 in /usr/local/lib/python3.11/dist-packages (from requests>=2.26.0->tiktoken) (2025.4.26)\n",
            "Downloading tiktoken-0.9.0-cp311-cp311-manylinux_2_17_x86_64.manylinux2014_x86_64.whl (1.2 MB)\n",
            "\u001b[2K   \u001b[90m━━━━━━━━━━━━━━━━━━━━━━━━━━━━━━━━━━━━━━━━\u001b[0m \u001b[32m1.2/1.2 MB\u001b[0m \u001b[31m13.1 MB/s\u001b[0m eta \u001b[36m0:00:00\u001b[0m\n",
            "\u001b[?25hInstalling collected packages: tiktoken\n",
            "Successfully installed tiktoken-0.9.0\n",
            "\u001b[2K   \u001b[90m━━━━━━━━━━━━━━━━━━━━━━━━━━━━━━━━━━━━━━━━\u001b[0m \u001b[32m42.3/42.3 kB\u001b[0m \u001b[31m1.5 MB/s\u001b[0m eta \u001b[36m0:00:00\u001b[0m\n",
            "\u001b[2K   \u001b[90m━━━━━━━━━━━━━━━━━━━━━━━━━━━━━━━━━━━━━━━━\u001b[0m \u001b[32m259.5/259.5 kB\u001b[0m \u001b[31m6.7 MB/s\u001b[0m eta \u001b[36m0:00:00\u001b[0m\n",
            "\u001b[2K   \u001b[90m━━━━━━━━━━━━━━━━━━━━━━━━━━━━━━━━━━━━━━━━\u001b[0m \u001b[32m3.3/3.3 MB\u001b[0m \u001b[31m50.2 MB/s\u001b[0m eta \u001b[36m0:00:00\u001b[0m\n",
            "\u001b[?25hCollecting chromadb\n",
            "  Downloading chromadb-1.0.8-cp39-abi3-manylinux_2_17_x86_64.manylinux2014_x86_64.whl.metadata (6.9 kB)\n",
            "Requirement already satisfied: build>=1.0.3 in /usr/local/lib/python3.11/dist-packages (from chromadb) (1.2.2.post1)\n",
            "Requirement already satisfied: pydantic>=1.9 in /usr/local/lib/python3.11/dist-packages (from chromadb) (2.11.4)\n",
            "Collecting fastapi==0.115.9 (from chromadb)\n",
            "  Downloading fastapi-0.115.9-py3-none-any.whl.metadata (27 kB)\n",
            "Collecting uvicorn>=0.18.3 (from uvicorn[standard]>=0.18.3->chromadb)\n",
            "  Downloading uvicorn-0.34.2-py3-none-any.whl.metadata (6.5 kB)\n",
            "Requirement already satisfied: numpy>=1.22.5 in /usr/local/lib/python3.11/dist-packages (from chromadb) (2.0.2)\n",
            "Collecting posthog>=2.4.0 (from chromadb)\n",
            "  Downloading posthog-4.0.1-py2.py3-none-any.whl.metadata (3.0 kB)\n",
            "Requirement already satisfied: typing-extensions>=4.5.0 in /usr/local/lib/python3.11/dist-packages (from chromadb) (4.13.2)\n",
            "Collecting onnxruntime>=1.14.1 (from chromadb)\n",
            "  Downloading onnxruntime-1.21.1-cp311-cp311-manylinux_2_27_x86_64.manylinux_2_28_x86_64.whl.metadata (4.5 kB)\n",
            "Requirement already satisfied: opentelemetry-api>=1.2.0 in /usr/local/lib/python3.11/dist-packages (from chromadb) (1.16.0)\n",
            "Collecting opentelemetry-exporter-otlp-proto-grpc>=1.2.0 (from chromadb)\n",
            "  Downloading opentelemetry_exporter_otlp_proto_grpc-1.32.1-py3-none-any.whl.metadata (2.5 kB)\n",
            "Collecting opentelemetry-instrumentation-fastapi>=0.41b0 (from chromadb)\n",
            "  Downloading opentelemetry_instrumentation_fastapi-0.53b1-py3-none-any.whl.metadata (2.2 kB)\n",
            "Requirement already satisfied: opentelemetry-sdk>=1.2.0 in /usr/local/lib/python3.11/dist-packages (from chromadb) (1.16.0)\n",
            "Requirement already satisfied: tokenizers>=0.13.2 in /usr/local/lib/python3.11/dist-packages (from chromadb) (0.21.1)\n",
            "Collecting pypika>=0.48.9 (from chromadb)\n",
            "  Downloading PyPika-0.48.9.tar.gz (67 kB)\n",
            "\u001b[2K     \u001b[90m━━━━━━━━━━━━━━━━━━━━━━━━━━━━━━━━━━━━━━━━\u001b[0m \u001b[32m67.3/67.3 kB\u001b[0m \u001b[31m3.0 MB/s\u001b[0m eta \u001b[36m0:00:00\u001b[0m\n",
            "\u001b[?25h  Installing build dependencies ... \u001b[?25l\u001b[?25hdone\n",
            "  Getting requirements to build wheel ... \u001b[?25l\u001b[?25hdone\n",
            "  Preparing metadata (pyproject.toml) ... \u001b[?25l\u001b[?25hdone\n",
            "Requirement already satisfied: tqdm>=4.65.0 in /usr/local/lib/python3.11/dist-packages (from chromadb) (4.67.1)\n",
            "Collecting overrides>=7.3.1 (from chromadb)\n",
            "  Downloading overrides-7.7.0-py3-none-any.whl.metadata (5.8 kB)\n",
            "Requirement already satisfied: importlib-resources in /usr/local/lib/python3.11/dist-packages (from chromadb) (6.5.2)\n",
            "Requirement already satisfied: grpcio>=1.58.0 in /usr/local/lib/python3.11/dist-packages (from chromadb) (1.71.0)\n",
            "Collecting bcrypt>=4.0.1 (from chromadb)\n",
            "  Downloading bcrypt-4.3.0-cp39-abi3-manylinux_2_34_x86_64.whl.metadata (10 kB)\n",
            "Requirement already satisfied: typer>=0.9.0 in /usr/local/lib/python3.11/dist-packages (from chromadb) (0.15.3)\n",
            "Collecting kubernetes>=28.1.0 (from chromadb)\n",
            "  Downloading kubernetes-32.0.1-py2.py3-none-any.whl.metadata (1.7 kB)\n",
            "Requirement already satisfied: tenacity>=8.2.3 in /usr/local/lib/python3.11/dist-packages (from chromadb) (9.1.2)\n",
            "Requirement already satisfied: pyyaml>=6.0.0 in /usr/local/lib/python3.11/dist-packages (from chromadb) (6.0.2)\n",
            "Collecting mmh3>=4.0.1 (from chromadb)\n",
            "  Downloading mmh3-5.1.0-cp311-cp311-manylinux_2_5_x86_64.manylinux1_x86_64.manylinux_2_17_x86_64.manylinux2014_x86_64.whl.metadata (16 kB)\n",
            "Requirement already satisfied: orjson>=3.9.12 in /usr/local/lib/python3.11/dist-packages (from chromadb) (3.10.18)\n",
            "Requirement already satisfied: httpx>=0.27.0 in /usr/local/lib/python3.11/dist-packages (from chromadb) (0.28.1)\n",
            "Requirement already satisfied: rich>=10.11.0 in /usr/local/lib/python3.11/dist-packages (from chromadb) (13.9.4)\n",
            "Requirement already satisfied: jsonschema>=4.19.0 in /usr/local/lib/python3.11/dist-packages (from chromadb) (4.23.0)\n",
            "Collecting starlette<0.46.0,>=0.40.0 (from fastapi==0.115.9->chromadb)\n",
            "  Downloading starlette-0.45.3-py3-none-any.whl.metadata (6.3 kB)\n",
            "Requirement already satisfied: packaging>=19.1 in /usr/local/lib/python3.11/dist-packages (from build>=1.0.3->chromadb) (24.2)\n",
            "Requirement already satisfied: pyproject_hooks in /usr/local/lib/python3.11/dist-packages (from build>=1.0.3->chromadb) (1.2.0)\n",
            "Requirement already satisfied: anyio in /usr/local/lib/python3.11/dist-packages (from httpx>=0.27.0->chromadb) (4.9.0)\n",
            "Requirement already satisfied: certifi in /usr/local/lib/python3.11/dist-packages (from httpx>=0.27.0->chromadb) (2025.4.26)\n",
            "Requirement already satisfied: httpcore==1.* in /usr/local/lib/python3.11/dist-packages (from httpx>=0.27.0->chromadb) (1.0.9)\n",
            "Requirement already satisfied: idna in /usr/local/lib/python3.11/dist-packages (from httpx>=0.27.0->chromadb) (3.10)\n",
            "Requirement already satisfied: h11>=0.16 in /usr/local/lib/python3.11/dist-packages (from httpcore==1.*->httpx>=0.27.0->chromadb) (0.16.0)\n",
            "Requirement already satisfied: attrs>=22.2.0 in /usr/local/lib/python3.11/dist-packages (from jsonschema>=4.19.0->chromadb) (25.3.0)\n",
            "Requirement already satisfied: jsonschema-specifications>=2023.03.6 in /usr/local/lib/python3.11/dist-packages (from jsonschema>=4.19.0->chromadb) (2025.4.1)\n",
            "Requirement already satisfied: referencing>=0.28.4 in /usr/local/lib/python3.11/dist-packages (from jsonschema>=4.19.0->chromadb) (0.36.2)\n",
            "Requirement already satisfied: rpds-py>=0.7.1 in /usr/local/lib/python3.11/dist-packages (from jsonschema>=4.19.0->chromadb) (0.24.0)\n",
            "Requirement already satisfied: six>=1.9.0 in /usr/local/lib/python3.11/dist-packages (from kubernetes>=28.1.0->chromadb) (1.17.0)\n",
            "Requirement already satisfied: python-dateutil>=2.5.3 in /usr/local/lib/python3.11/dist-packages (from kubernetes>=28.1.0->chromadb) (2.9.0.post0)\n",
            "Requirement already satisfied: google-auth>=1.0.1 in /usr/local/lib/python3.11/dist-packages (from kubernetes>=28.1.0->chromadb) (2.38.0)\n",
            "Requirement already satisfied: websocket-client!=0.40.0,!=0.41.*,!=0.42.*,>=0.32.0 in /usr/local/lib/python3.11/dist-packages (from kubernetes>=28.1.0->chromadb) (1.8.0)\n",
            "Requirement already satisfied: requests in /usr/local/lib/python3.11/dist-packages (from kubernetes>=28.1.0->chromadb) (2.32.3)\n",
            "Requirement already satisfied: requests-oauthlib in /usr/local/lib/python3.11/dist-packages (from kubernetes>=28.1.0->chromadb) (2.0.0)\n",
            "Requirement already satisfied: oauthlib>=3.2.2 in /usr/local/lib/python3.11/dist-packages (from kubernetes>=28.1.0->chromadb) (3.2.2)\n",
            "Requirement already satisfied: urllib3>=1.24.2 in /usr/local/lib/python3.11/dist-packages (from kubernetes>=28.1.0->chromadb) (2.4.0)\n",
            "Collecting durationpy>=0.7 (from kubernetes>=28.1.0->chromadb)\n",
            "  Downloading durationpy-0.9-py3-none-any.whl.metadata (338 bytes)\n",
            "Collecting coloredlogs (from onnxruntime>=1.14.1->chromadb)\n",
            "  Downloading coloredlogs-15.0.1-py2.py3-none-any.whl.metadata (12 kB)\n",
            "Requirement already satisfied: flatbuffers in /usr/local/lib/python3.11/dist-packages (from onnxruntime>=1.14.1->chromadb) (25.2.10)\n",
            "Requirement already satisfied: protobuf in /usr/local/lib/python3.11/dist-packages (from onnxruntime>=1.14.1->chromadb) (5.29.4)\n",
            "Requirement already satisfied: sympy in /usr/local/lib/python3.11/dist-packages (from onnxruntime>=1.14.1->chromadb) (1.13.1)\n",
            "Requirement already satisfied: deprecated>=1.2.6 in /usr/local/lib/python3.11/dist-packages (from opentelemetry-api>=1.2.0->chromadb) (1.2.18)\n",
            "Requirement already satisfied: setuptools>=16.0 in /usr/local/lib/python3.11/dist-packages (from opentelemetry-api>=1.2.0->chromadb) (75.2.0)\n",
            "Requirement already satisfied: googleapis-common-protos~=1.52 in /usr/local/lib/python3.11/dist-packages (from opentelemetry-exporter-otlp-proto-grpc>=1.2.0->chromadb) (1.70.0)\n",
            "Collecting opentelemetry-exporter-otlp-proto-common==1.32.1 (from opentelemetry-exporter-otlp-proto-grpc>=1.2.0->chromadb)\n",
            "  Downloading opentelemetry_exporter_otlp_proto_common-1.32.1-py3-none-any.whl.metadata (1.9 kB)\n",
            "Collecting opentelemetry-proto==1.32.1 (from opentelemetry-exporter-otlp-proto-grpc>=1.2.0->chromadb)\n",
            "  Downloading opentelemetry_proto-1.32.1-py3-none-any.whl.metadata (2.4 kB)\n",
            "Collecting opentelemetry-sdk>=1.2.0 (from chromadb)\n",
            "  Downloading opentelemetry_sdk-1.32.1-py3-none-any.whl.metadata (1.6 kB)\n",
            "Collecting opentelemetry-instrumentation-asgi==0.53b1 (from opentelemetry-instrumentation-fastapi>=0.41b0->chromadb)\n",
            "  Downloading opentelemetry_instrumentation_asgi-0.53b1-py3-none-any.whl.metadata (2.1 kB)\n",
            "Collecting opentelemetry-instrumentation==0.53b1 (from opentelemetry-instrumentation-fastapi>=0.41b0->chromadb)\n",
            "  Downloading opentelemetry_instrumentation-0.53b1-py3-none-any.whl.metadata (6.8 kB)\n",
            "Collecting opentelemetry-semantic-conventions==0.53b1 (from opentelemetry-instrumentation-fastapi>=0.41b0->chromadb)\n",
            "  Downloading opentelemetry_semantic_conventions-0.53b1-py3-none-any.whl.metadata (2.5 kB)\n",
            "Collecting opentelemetry-util-http==0.53b1 (from opentelemetry-instrumentation-fastapi>=0.41b0->chromadb)\n",
            "  Downloading opentelemetry_util_http-0.53b1-py3-none-any.whl.metadata (2.6 kB)\n",
            "Requirement already satisfied: wrapt<2.0.0,>=1.0.0 in /usr/local/lib/python3.11/dist-packages (from opentelemetry-instrumentation==0.53b1->opentelemetry-instrumentation-fastapi>=0.41b0->chromadb) (1.17.2)\n",
            "Collecting asgiref~=3.0 (from opentelemetry-instrumentation-asgi==0.53b1->opentelemetry-instrumentation-fastapi>=0.41b0->chromadb)\n",
            "  Downloading asgiref-3.8.1-py3-none-any.whl.metadata (9.3 kB)\n",
            "Collecting opentelemetry-api>=1.2.0 (from chromadb)\n",
            "  Downloading opentelemetry_api-1.32.1-py3-none-any.whl.metadata (1.6 kB)\n",
            "Collecting importlib-metadata<8.7.0,>=6.0 (from opentelemetry-api>=1.2.0->chromadb)\n",
            "  Downloading importlib_metadata-8.6.1-py3-none-any.whl.metadata (4.7 kB)\n",
            "Collecting backoff>=1.10.0 (from posthog>=2.4.0->chromadb)\n",
            "  Downloading backoff-2.2.1-py3-none-any.whl.metadata (14 kB)\n",
            "Requirement already satisfied: distro>=1.5.0 in /usr/local/lib/python3.11/dist-packages (from posthog>=2.4.0->chromadb) (1.9.0)\n",
            "Requirement already satisfied: annotated-types>=0.6.0 in /usr/local/lib/python3.11/dist-packages (from pydantic>=1.9->chromadb) (0.7.0)\n",
            "Requirement already satisfied: pydantic-core==2.33.2 in /usr/local/lib/python3.11/dist-packages (from pydantic>=1.9->chromadb) (2.33.2)\n",
            "Requirement already satisfied: typing-inspection>=0.4.0 in /usr/local/lib/python3.11/dist-packages (from pydantic>=1.9->chromadb) (0.4.0)\n",
            "Requirement already satisfied: markdown-it-py>=2.2.0 in /usr/local/lib/python3.11/dist-packages (from rich>=10.11.0->chromadb) (3.0.0)\n",
            "Requirement already satisfied: pygments<3.0.0,>=2.13.0 in /usr/local/lib/python3.11/dist-packages (from rich>=10.11.0->chromadb) (2.19.1)\n",
            "Requirement already satisfied: huggingface-hub<1.0,>=0.16.4 in /usr/local/lib/python3.11/dist-packages (from tokenizers>=0.13.2->chromadb) (0.30.2)\n",
            "Requirement already satisfied: click>=8.0.0 in /usr/local/lib/python3.11/dist-packages (from typer>=0.9.0->chromadb) (8.1.8)\n",
            "Requirement already satisfied: shellingham>=1.3.0 in /usr/local/lib/python3.11/dist-packages (from typer>=0.9.0->chromadb) (1.5.4)\n",
            "Collecting httptools>=0.6.3 (from uvicorn[standard]>=0.18.3->chromadb)\n",
            "  Downloading httptools-0.6.4-cp311-cp311-manylinux_2_5_x86_64.manylinux1_x86_64.manylinux_2_17_x86_64.manylinux2014_x86_64.whl.metadata (3.6 kB)\n",
            "Requirement already satisfied: python-dotenv>=0.13 in /usr/local/lib/python3.11/dist-packages (from uvicorn[standard]>=0.18.3->chromadb) (1.1.0)\n",
            "Collecting uvloop!=0.15.0,!=0.15.1,>=0.14.0 (from uvicorn[standard]>=0.18.3->chromadb)\n",
            "  Downloading uvloop-0.21.0-cp311-cp311-manylinux_2_17_x86_64.manylinux2014_x86_64.whl.metadata (4.9 kB)\n",
            "Collecting watchfiles>=0.13 (from uvicorn[standard]>=0.18.3->chromadb)\n",
            "  Downloading watchfiles-1.0.5-cp311-cp311-manylinux_2_17_x86_64.manylinux2014_x86_64.whl.metadata (4.9 kB)\n",
            "Requirement already satisfied: websockets>=10.4 in /usr/local/lib/python3.11/dist-packages (from uvicorn[standard]>=0.18.3->chromadb) (15.0.1)\n",
            "Requirement already satisfied: cachetools<6.0,>=2.0.0 in /usr/local/lib/python3.11/dist-packages (from google-auth>=1.0.1->kubernetes>=28.1.0->chromadb) (5.5.2)\n",
            "Requirement already satisfied: pyasn1-modules>=0.2.1 in /usr/local/lib/python3.11/dist-packages (from google-auth>=1.0.1->kubernetes>=28.1.0->chromadb) (0.4.2)\n",
            "Requirement already satisfied: rsa<5,>=3.1.4 in /usr/local/lib/python3.11/dist-packages (from google-auth>=1.0.1->kubernetes>=28.1.0->chromadb) (4.9.1)\n",
            "Requirement already satisfied: filelock in /usr/local/lib/python3.11/dist-packages (from huggingface-hub<1.0,>=0.16.4->tokenizers>=0.13.2->chromadb) (3.18.0)\n",
            "Requirement already satisfied: fsspec>=2023.5.0 in /usr/local/lib/python3.11/dist-packages (from huggingface-hub<1.0,>=0.16.4->tokenizers>=0.13.2->chromadb) (2025.3.2)\n",
            "Requirement already satisfied: zipp>=3.20 in /usr/local/lib/python3.11/dist-packages (from importlib-metadata<8.7.0,>=6.0->opentelemetry-api>=1.2.0->chromadb) (3.21.0)\n",
            "Requirement already satisfied: mdurl~=0.1 in /usr/local/lib/python3.11/dist-packages (from markdown-it-py>=2.2.0->rich>=10.11.0->chromadb) (0.1.2)\n",
            "Requirement already satisfied: charset-normalizer<4,>=2 in /usr/local/lib/python3.11/dist-packages (from requests->kubernetes>=28.1.0->chromadb) (3.4.1)\n",
            "Requirement already satisfied: sniffio>=1.1 in /usr/local/lib/python3.11/dist-packages (from anyio->httpx>=0.27.0->chromadb) (1.3.1)\n",
            "Collecting humanfriendly>=9.1 (from coloredlogs->onnxruntime>=1.14.1->chromadb)\n",
            "  Downloading humanfriendly-10.0-py2.py3-none-any.whl.metadata (9.2 kB)\n",
            "Requirement already satisfied: mpmath<1.4,>=1.1.0 in /usr/local/lib/python3.11/dist-packages (from sympy->onnxruntime>=1.14.1->chromadb) (1.3.0)\n",
            "Requirement already satisfied: pyasn1<0.7.0,>=0.6.1 in /usr/local/lib/python3.11/dist-packages (from pyasn1-modules>=0.2.1->google-auth>=1.0.1->kubernetes>=28.1.0->chromadb) (0.6.1)\n",
            "Downloading chromadb-1.0.8-cp39-abi3-manylinux_2_17_x86_64.manylinux2014_x86_64.whl (18.9 MB)\n",
            "\u001b[2K   \u001b[90m━━━━━━━━━━━━━━━━━━━━━━━━━━━━━━━━━━━━━━━━\u001b[0m \u001b[32m18.9/18.9 MB\u001b[0m \u001b[31m84.9 MB/s\u001b[0m eta \u001b[36m0:00:00\u001b[0m\n",
            "\u001b[?25hDownloading fastapi-0.115.9-py3-none-any.whl (94 kB)\n",
            "\u001b[2K   \u001b[90m━━━━━━━━━━━━━━━━━━━━━━━━━━━━━━━━━━━━━━━━\u001b[0m \u001b[32m94.9/94.9 kB\u001b[0m \u001b[31m6.1 MB/s\u001b[0m eta \u001b[36m0:00:00\u001b[0m\n",
            "\u001b[?25hDownloading bcrypt-4.3.0-cp39-abi3-manylinux_2_34_x86_64.whl (284 kB)\n",
            "\u001b[2K   \u001b[90m━━━━━━━━━━━━━━━━━━━━━━━━━━━━━━━━━━━━━━━━\u001b[0m \u001b[32m284.2/284.2 kB\u001b[0m \u001b[31m17.9 MB/s\u001b[0m eta \u001b[36m0:00:00\u001b[0m\n",
            "\u001b[?25hDownloading kubernetes-32.0.1-py2.py3-none-any.whl (2.0 MB)\n",
            "\u001b[2K   \u001b[90m━━━━━━━━━━━━━━━━━━━━━━━━━━━━━━━━━━━━━━━━\u001b[0m \u001b[32m2.0/2.0 MB\u001b[0m \u001b[31m64.4 MB/s\u001b[0m eta \u001b[36m0:00:00\u001b[0m\n",
            "\u001b[?25hDownloading mmh3-5.1.0-cp311-cp311-manylinux_2_5_x86_64.manylinux1_x86_64.manylinux_2_17_x86_64.manylinux2014_x86_64.whl (101 kB)\n",
            "\u001b[2K   \u001b[90m━━━━━━━━━━━━━━━━━━━━━━━━━━━━━━━━━━━━━━━━\u001b[0m \u001b[32m101.6/101.6 kB\u001b[0m \u001b[31m6.9 MB/s\u001b[0m eta \u001b[36m0:00:00\u001b[0m\n",
            "\u001b[?25hDownloading onnxruntime-1.21.1-cp311-cp311-manylinux_2_27_x86_64.manylinux_2_28_x86_64.whl (16.0 MB)\n",
            "\u001b[2K   \u001b[90m━━━━━━━━━━━━━━━━━━━━━━━━━━━━━━━━━━━━━━━━\u001b[0m \u001b[32m16.0/16.0 MB\u001b[0m \u001b[31m89.9 MB/s\u001b[0m eta \u001b[36m0:00:00\u001b[0m\n",
            "\u001b[?25hDownloading opentelemetry_exporter_otlp_proto_grpc-1.32.1-py3-none-any.whl (18 kB)\n",
            "Downloading opentelemetry_exporter_otlp_proto_common-1.32.1-py3-none-any.whl (18 kB)\n",
            "Downloading opentelemetry_proto-1.32.1-py3-none-any.whl (55 kB)\n",
            "\u001b[2K   \u001b[90m━━━━━━━━━━━━━━━━━━━━━━━━━━━━━━━━━━━━━━━━\u001b[0m \u001b[32m55.9/55.9 kB\u001b[0m \u001b[31m4.1 MB/s\u001b[0m eta \u001b[36m0:00:00\u001b[0m\n",
            "\u001b[?25hDownloading opentelemetry_instrumentation_fastapi-0.53b1-py3-none-any.whl (12 kB)\n",
            "Downloading opentelemetry_instrumentation-0.53b1-py3-none-any.whl (30 kB)\n",
            "Downloading opentelemetry_instrumentation_asgi-0.53b1-py3-none-any.whl (16 kB)\n",
            "Downloading opentelemetry_semantic_conventions-0.53b1-py3-none-any.whl (188 kB)\n",
            "\u001b[2K   \u001b[90m━━━━━━━━━━━━━━━━━━━━━━━━━━━━━━━━━━━━━━━━\u001b[0m \u001b[32m188.4/188.4 kB\u001b[0m \u001b[31m12.8 MB/s\u001b[0m eta \u001b[36m0:00:00\u001b[0m\n",
            "\u001b[?25hDownloading opentelemetry_api-1.32.1-py3-none-any.whl (65 kB)\n",
            "\u001b[2K   \u001b[90m━━━━━━━━━━━━━━━━━━━━━━━━━━━━━━━━━━━━━━━━\u001b[0m \u001b[32m65.3/65.3 kB\u001b[0m \u001b[31m4.2 MB/s\u001b[0m eta \u001b[36m0:00:00\u001b[0m\n",
            "\u001b[?25hDownloading opentelemetry_util_http-0.53b1-py3-none-any.whl (7.3 kB)\n",
            "Downloading opentelemetry_sdk-1.32.1-py3-none-any.whl (118 kB)\n",
            "\u001b[2K   \u001b[90m━━━━━━━━━━━━━━━━━━━━━━━━━━━━━━━━━━━━━━━━\u001b[0m \u001b[32m119.0/119.0 kB\u001b[0m \u001b[31m7.7 MB/s\u001b[0m eta \u001b[36m0:00:00\u001b[0m\n",
            "\u001b[?25hDownloading overrides-7.7.0-py3-none-any.whl (17 kB)\n",
            "Downloading posthog-4.0.1-py2.py3-none-any.whl (92 kB)\n",
            "\u001b[2K   \u001b[90m━━━━━━━━━━━━━━━━━━━━━━━━━━━━━━━━━━━━━━━━\u001b[0m \u001b[32m92.0/92.0 kB\u001b[0m \u001b[31m5.5 MB/s\u001b[0m eta \u001b[36m0:00:00\u001b[0m\n",
            "\u001b[?25hDownloading uvicorn-0.34.2-py3-none-any.whl (62 kB)\n",
            "\u001b[2K   \u001b[90m━━━━━━━━━━━━━━━━━━━━━━━━━━━━━━━━━━━━━━━━\u001b[0m \u001b[32m62.5/62.5 kB\u001b[0m \u001b[31m4.4 MB/s\u001b[0m eta \u001b[36m0:00:00\u001b[0m\n",
            "\u001b[?25hDownloading backoff-2.2.1-py3-none-any.whl (15 kB)\n",
            "Downloading durationpy-0.9-py3-none-any.whl (3.5 kB)\n",
            "Downloading httptools-0.6.4-cp311-cp311-manylinux_2_5_x86_64.manylinux1_x86_64.manylinux_2_17_x86_64.manylinux2014_x86_64.whl (459 kB)\n",
            "\u001b[2K   \u001b[90m━━━━━━━━━━━━━━━━━━━━━━━━━━━━━━━━━━━━━━━━\u001b[0m \u001b[32m459.8/459.8 kB\u001b[0m \u001b[31m24.6 MB/s\u001b[0m eta \u001b[36m0:00:00\u001b[0m\n",
            "\u001b[?25hDownloading importlib_metadata-8.6.1-py3-none-any.whl (26 kB)\n",
            "Downloading starlette-0.45.3-py3-none-any.whl (71 kB)\n",
            "\u001b[2K   \u001b[90m━━━━━━━━━━━━━━━━━━━━━━━━━━━━━━━━━━━━━━━━\u001b[0m \u001b[32m71.5/71.5 kB\u001b[0m \u001b[31m3.9 MB/s\u001b[0m eta \u001b[36m0:00:00\u001b[0m\n",
            "\u001b[?25hDownloading uvloop-0.21.0-cp311-cp311-manylinux_2_17_x86_64.manylinux2014_x86_64.whl (4.0 MB)\n",
            "\u001b[2K   \u001b[90m━━━━━━━━━━━━━━━━━━━━━━━━━━━━━━━━━━━━━━━━\u001b[0m \u001b[32m4.0/4.0 MB\u001b[0m \u001b[31m62.8 MB/s\u001b[0m eta \u001b[36m0:00:00\u001b[0m\n",
            "\u001b[?25hDownloading watchfiles-1.0.5-cp311-cp311-manylinux_2_17_x86_64.manylinux2014_x86_64.whl (454 kB)\n",
            "\u001b[2K   \u001b[90m━━━━━━━━━━━━━━━━━━━━━━━━━━━━━━━━━━━━━━━━\u001b[0m \u001b[32m454.8/454.8 kB\u001b[0m \u001b[31m21.4 MB/s\u001b[0m eta \u001b[36m0:00:00\u001b[0m\n",
            "\u001b[?25hDownloading coloredlogs-15.0.1-py2.py3-none-any.whl (46 kB)\n",
            "\u001b[2K   \u001b[90m━━━━━━━━━━━━━━━━━━━━━━━━━━━━━━━━━━━━━━━━\u001b[0m \u001b[32m46.0/46.0 kB\u001b[0m \u001b[31m3.2 MB/s\u001b[0m eta \u001b[36m0:00:00\u001b[0m\n",
            "\u001b[?25hDownloading asgiref-3.8.1-py3-none-any.whl (23 kB)\n",
            "Downloading humanfriendly-10.0-py2.py3-none-any.whl (86 kB)\n",
            "\u001b[2K   \u001b[90m━━━━━━━━━━━━━━━━━━━━━━━━━━━━━━━━━━━━━━━━\u001b[0m \u001b[32m86.8/86.8 kB\u001b[0m \u001b[31m5.7 MB/s\u001b[0m eta \u001b[36m0:00:00\u001b[0m\n",
            "\u001b[?25hBuilding wheels for collected packages: pypika\n",
            "  Building wheel for pypika (pyproject.toml) ... \u001b[?25l\u001b[?25hdone\n",
            "  Created wheel for pypika: filename=pypika-0.48.9-py2.py3-none-any.whl size=53801 sha256=6d63f99ea33158829a7dafc1c6a9ea479dc814033a63371bba2ea5eeb95f853a\n",
            "  Stored in directory: /root/.cache/pip/wheels/a3/01/bd/4c40ceb9d5354160cb186dcc153360f4ab7eb23e2b24daf96d\n",
            "Successfully built pypika\n",
            "Installing collected packages: pypika, durationpy, uvloop, uvicorn, overrides, opentelemetry-util-http, opentelemetry-proto, mmh3, importlib-metadata, humanfriendly, httptools, bcrypt, backoff, asgiref, watchfiles, starlette, posthog, opentelemetry-exporter-otlp-proto-common, opentelemetry-api, coloredlogs, opentelemetry-semantic-conventions, onnxruntime, kubernetes, fastapi, opentelemetry-sdk, opentelemetry-instrumentation, opentelemetry-instrumentation-asgi, opentelemetry-exporter-otlp-proto-grpc, opentelemetry-instrumentation-fastapi, chromadb\n",
            "  Attempting uninstall: importlib-metadata\n",
            "    Found existing installation: importlib_metadata 8.7.0\n",
            "    Uninstalling importlib_metadata-8.7.0:\n",
            "      Successfully uninstalled importlib_metadata-8.7.0\n",
            "  Attempting uninstall: opentelemetry-api\n",
            "    Found existing installation: opentelemetry-api 1.16.0\n",
            "    Uninstalling opentelemetry-api-1.16.0:\n",
            "      Successfully uninstalled opentelemetry-api-1.16.0\n",
            "  Attempting uninstall: opentelemetry-semantic-conventions\n",
            "    Found existing installation: opentelemetry-semantic-conventions 0.37b0\n",
            "    Uninstalling opentelemetry-semantic-conventions-0.37b0:\n",
            "      Successfully uninstalled opentelemetry-semantic-conventions-0.37b0\n",
            "  Attempting uninstall: opentelemetry-sdk\n",
            "    Found existing installation: opentelemetry-sdk 1.16.0\n",
            "    Uninstalling opentelemetry-sdk-1.16.0:\n",
            "      Successfully uninstalled opentelemetry-sdk-1.16.0\n",
            "Successfully installed asgiref-3.8.1 backoff-2.2.1 bcrypt-4.3.0 chromadb-1.0.8 coloredlogs-15.0.1 durationpy-0.9 fastapi-0.115.9 httptools-0.6.4 humanfriendly-10.0 importlib-metadata-8.6.1 kubernetes-32.0.1 mmh3-5.1.0 onnxruntime-1.21.1 opentelemetry-api-1.32.1 opentelemetry-exporter-otlp-proto-common-1.32.1 opentelemetry-exporter-otlp-proto-grpc-1.32.1 opentelemetry-instrumentation-0.53b1 opentelemetry-instrumentation-asgi-0.53b1 opentelemetry-instrumentation-fastapi-0.53b1 opentelemetry-proto-1.32.1 opentelemetry-sdk-1.32.1 opentelemetry-semantic-conventions-0.53b1 opentelemetry-util-http-0.53b1 overrides-7.7.0 posthog-4.0.1 pypika-0.48.9 starlette-0.45.3 uvicorn-0.34.2 uvloop-0.21.0 watchfiles-1.0.5\n"
          ]
        },
        {
          "output_type": "display_data",
          "data": {
            "application/vnd.colab-display-data+json": {
              "pip_warning": {
                "packages": [
                  "importlib_metadata"
                ]
              },
              "id": "a8afab7d8224456489347106261351d8"
            }
          },
          "metadata": {}
        },
        {
          "output_type": "stream",
          "name": "stdout",
          "text": [
            "Collecting lark\n",
            "  Downloading lark-1.2.2-py3-none-any.whl.metadata (1.8 kB)\n",
            "Downloading lark-1.2.2-py3-none-any.whl (111 kB)\n",
            "\u001b[?25l   \u001b[90m━━━━━━━━━━━━━━━━━━━━━━━━━━━━━━━━━━━━━━━━\u001b[0m \u001b[32m0.0/111.0 kB\u001b[0m \u001b[31m?\u001b[0m eta \u001b[36m-:--:--\u001b[0m\r\u001b[2K   \u001b[91m━━━━━━━━━━━━━━━━━━━━━━━━━━━━━━━━━━━━\u001b[0m\u001b[91m╸\u001b[0m\u001b[90m━━━\u001b[0m \u001b[32m102.4/111.0 kB\u001b[0m \u001b[31m3.8 MB/s\u001b[0m eta \u001b[36m0:00:01\u001b[0m\r\u001b[2K   \u001b[90m━━━━━━━━━━━━━━━━━━━━━━━━━━━━━━━━━━━━━━━━\u001b[0m \u001b[32m111.0/111.0 kB\u001b[0m \u001b[31m2.7 MB/s\u001b[0m eta \u001b[36m0:00:00\u001b[0m\n",
            "\u001b[?25hInstalling collected packages: lark\n",
            "Successfully installed lark-1.2.2\n"
          ]
        }
      ]
    },
    {
      "cell_type": "code",
      "source": [
        "import getpass\n",
        "import os\n",
        "import sys\n",
        "\n",
        "import numpy as np\n",
        "from langchain.chains import RetrievalQA\n",
        "from langchain.chains.query_constructor.base import AttributeInfo\n",
        "from langchain.llms import Cohere\n",
        "from langchain.retrievers.self_query.base import SelfQueryRetriever\n",
        "from langchain.text_splitter import RecursiveCharacterTextSplitter\n",
        "from langchain.vectorstores import Chroma\n",
        "from langchain_cohere import CohereEmbeddings\n",
        "from langchain_community.document_loaders import YoutubeLoader\n",
        "from langchain_community.document_loaders.youtube import TranscriptFormat"
      ],
      "metadata": {
        "id": "s-jKcysA-a9w"
      },
      "execution_count": null,
      "outputs": []
    },
    {
      "cell_type": "code",
      "execution_count": null,
      "metadata": {
        "colab": {
          "base_uri": "https://localhost:8080/"
        },
        "id": "82djPbfWignz",
        "outputId": "2306a0e7-5b1d-4537-bebe-525dba612424"
      },
      "outputs": [
        {
          "name": "stdout",
          "output_type": "stream",
          "text": [
            "Enter API Key:··········\n"
          ]
        }
      ],
      "source": [
        "if not os.environ.get(\"COHERE_API_KEY\"):\n",
        "  os.environ[\"COHERE_API_KEY\"] = getpass.getpass(\"Enter API Key:\")\n",
        "\n",
        "embeddings = CohereEmbeddings(model=\"embed-english-v3.0\")"
      ]
    },
    {
      "cell_type": "code",
      "source": [
        "YOUTUBE_VIDEO_LINK = \"https://youtu.be/_-eHOSq3oqI\""
      ],
      "metadata": {
        "id": "yrfYwxmdirda"
      },
      "execution_count": null,
      "outputs": []
    },
    {
      "cell_type": "code",
      "source": [
        "loader = YoutubeLoader.from_youtube_url(\n",
        "    YOUTUBE_VIDEO_LINK,\n",
        "    language=[\"es\"],\n",
        "    transcript_format=TranscriptFormat.CHUNKS,\n",
        "    chunk_size_seconds=30\n",
        ")"
      ],
      "metadata": {
        "id": "c8s-1GI0iyvp"
      },
      "execution_count": null,
      "outputs": []
    },
    {
      "cell_type": "code",
      "source": [
        "content = loader.load()"
      ],
      "metadata": {
        "id": "E4UvmxVwmdzj"
      },
      "execution_count": null,
      "outputs": []
    },
    {
      "cell_type": "code",
      "source": [
        "len(content)"
      ],
      "metadata": {
        "colab": {
          "base_uri": "https://localhost:8080/"
        },
        "id": "5s2oaStLn7Dw",
        "outputId": "c3a1b261-0ef7-43a6-83cb-290fbdd6551d"
      },
      "execution_count": null,
      "outputs": [
        {
          "output_type": "execute_result",
          "data": {
            "text/plain": [
              "17"
            ]
          },
          "metadata": {},
          "execution_count": 19
        }
      ]
    },
    {
      "cell_type": "code",
      "source": [
        "content"
      ],
      "metadata": {
        "colab": {
          "base_uri": "https://localhost:8080/"
        },
        "id": "edR0BQcQmgca",
        "outputId": "7c6412fc-5635-4ffe-c34e-7656055a3dd4"
      },
      "execution_count": null,
      "outputs": [
        {
          "output_type": "execute_result",
          "data": {
            "text/plain": [
              "[Document(metadata={'source': 'https://www.youtube.com/watch?v=_-eHOSq3oqI&t=0s', 'start_seconds': 0, 'start_timestamp': '00:00:00'}, page_content=\"- [Speaker] Before we get into tariffs,- - The heart of the Donald\\nTrump economic plan. - [Speaker] We should talk\\nabout the chicken war. - The chicken war is\\na cluckin' good story. - [Speaker] In post World\\nWar II, West Germany, people started eating a lot of chicken, specifically American chicken. Midway through 1962, US\\nfarmers were on track to sell more than $50\\nmillion worth, half a billion in today's money. This made European farmers mad. So the organization that later\\nbecame the European Union\"),\n",
              " Document(metadata={'source': 'https://www.youtube.com/watch?v=_-eHOSq3oqI&t=30s', 'start_seconds': 30, 'start_timestamp': '00:00:30'}, page_content=\"put a tariff on chicken A five pound chicken that\\nstarted as $1.60 became $2.25. Imports quickly dropped. US chicken farmers and\\npoliticians were furious. - And we thought, Germany's\\nour big market for chicken. And so if we hurt the\\nGermans, maybe we'll get them to change their mind on chicken. - [Speaker] So the US put\\na 25% tariff on trucks like Germany's Volkswagen and it worked. Their truck sales in the US fell by half, and they never really recovered.\"),\n",
              " Document(metadata={'source': 'https://www.youtube.com/watch?v=_-eHOSq3oqI&t=60s', 'start_seconds': 60, 'start_timestamp': '00:01:00'}, page_content=\"Meanwhile, Germans paid\\nmore for their chicken, and Americans had fewer truck options. It's kind of a perfect\\nexample of what tariffs do. Hurt consumers while protecting\\nvery specific industries or attempt to get countries\\nto change their behavior. While they haven't been a large part of trade policy in decades, former President Donald\\nTrump wants to change that. - Some might say it's\\neconomic nationalism. I call it common sense. I call it America first.\"),\n",
              " Document(metadata={'source': 'https://www.youtube.com/watch?v=_-eHOSq3oqI&t=90s', 'start_seconds': 90, 'start_timestamp': '00:01:30'}, page_content=\"- President Trump has\\nreally sort of brought a lot of people out to think that\\ntariffs might be something that's useful in America's\\neconomic arsenal in a way that hasn't been used in the past. - [Speaker] Here's how tariffs work and what Trump's proposals would do. Let's start in 2018 when\\nPresident Trump put tariffs on- - Washing machines. We're going to benefit our consumers and we're gonna create a lot of jobs. - [Speaker] Since then,\\nwhenever a washing machine is imported to the US, the company on the US side doing\\nthe importing pays a tariff\"),\n",
              " Document(metadata={'source': 'https://www.youtube.com/watch?v=_-eHOSq3oqI&t=120s', 'start_seconds': 120, 'start_timestamp': '00:02:00'}, page_content=\"to the US government. - Their margins are pretty low. They've gotta pass that price on to consumers who ultimately pay it. That's the whole point in\\nsome sense, to reduce demand for those goods and create\\nspace for domestic producers. - [Speaker] After the tariffs,\\nnot only did the price of imported washing machines go up, so did the ones made in the US. - There's this myth out\\nthere that if we tax imports, domestic producers won't\\nchange their prices. And that's not the case. You're creating more demand for them. - [Speaker] So naturally\\nthe price goes up.\"),\n",
              " Document(metadata={'source': 'https://www.youtube.com/watch?v=_-eHOSq3oqI&t=150s', 'start_seconds': 150, 'start_timestamp': '00:02:30'}, page_content=\"And it wasn't just washers. Dryers went up in price too, even though they weren't\\npart of the tariffs. - Usually it's the case,\\nif you buy a washer, you buy a dryer. So even though dryers\\nweren't directly affected by the tariff, they\\nwere indirectly affected by the shift in demand. - [Speaker] Now, it wasn't all bad. These tariffs did- - Create a lot of jobs. - [Speaker] About 1,800, mostly from those foreign\\ncompanies like Samsung and LG opening plants in the US and a study found the US\\ncollected $82 million annually. But because of those price increases,\"),\n",
              " Document(metadata={'source': 'https://www.youtube.com/watch?v=_-eHOSq3oqI&t=180s', 'start_seconds': 180, 'start_timestamp': '00:03:00'}, page_content=\"it cost consumers 1.5 billion more. So they basically paid $815,000 per job. - This is a very expensive\\njob creation program. And so that's one another reason why economists don't like tariffs. They're much more cost\\neffective, more efficient ways of increasing employment\\nin those industries. - [Speaker] These weren't the\\nonly tariffs Trump created in 2018. The big ones were on- - Steel and aluminum. - Those were really\\ndesigned to punish China\"),\n",
              " Document(metadata={'source': 'https://www.youtube.com/watch?v=_-eHOSq3oqI&t=210s', 'start_seconds': 210, 'start_timestamp': '00:03:30'}, page_content=\"for its transgressions of\\ninternational trade rules. - [Speaker] Also for national security. They're used to make a\\nlot of military equipment, but also everyday things like cars. - All the industries that use steel have to pay the higher price that\\nsqueezes their profit margins. And it also puts them at\\na competitive disadvantage against foreign producers of\\nthose same goods who don't have to pay those inflated\\ncosts for their inputs. And so a lot of studies have\\nshown that you lose jobs as many if not more jobs in\\nthose downstream industries\"),\n",
              " Document(metadata={'source': 'https://www.youtube.com/watch?v=_-eHOSq3oqI&t=240s', 'start_seconds': 240, 'start_timestamp': '00:04:00'}, page_content=\"as you gain in the upstream industries that are being protected by the tariffs. - [Speaker] Many studies on the 2018 tariffs found\\nsome pros, some cons. Manufacturing jobs, which were on the decline didn't increase, but they did level out. The overall economy lost jobs mostly in those downstream industries, and the cost of the tariffs were passed on to US companies and consumers. So not great for the economy, but it did motivate US\\ncompanies to move out of China and made supply chains more resilient.\"),\n",
              " Document(metadata={'source': 'https://www.youtube.com/watch?v=_-eHOSq3oqI&t=270s', 'start_seconds': 270, 'start_timestamp': '00:04:30'}, page_content=\"But it didn't change\\nmuch of China's behavior and in many ways they\\nbecame more aggressive. But here's the thing, even with\\nall the economic downsides, a review by the Biden administration suggested Trump's tariffs should remain and the administration should add or increase them, which they did. - Once tariffs get in place,\\nthere are two factors that sort of keep them in place for some time. - First of all, they're gonna\\nbe domestic interest groups that have a stake in seating\\nthose tariffs maintained 'cause they like the extra\\nmarket share that they've gained\"),\n",
              " Document(metadata={'source': 'https://www.youtube.com/watch?v=_-eHOSq3oqI&t=300s', 'start_seconds': 300, 'start_timestamp': '00:05:00'}, page_content=\"as a result of those tariffs. And second of all, tariffs\\nare a bargaining chip. So why would we sort of\\nunilaterally get rid of these, even if there's some economic\\nbenefits when we might use it in some negotiations down the road, - [Speaker] Tariffs are\\nreally hard to remove. It's why 60 years later there's still a 25% tariff on trucks, even though US chicken\\nfarmers no longer care about selling in Europe. - So we're still living with\\nthe legacy of the chicken war. So that's sort of another\\nlesson of history is you have to be careful about imposing these tariffs\"),\n",
              " Document(metadata={'source': 'https://www.youtube.com/watch?v=_-eHOSq3oqI&t=330s', 'start_seconds': 330, 'start_timestamp': '00:05:30'}, page_content=\"because you think you're doing it for short term strategic reasons or you're just helping out\\nthis industry temporarily. But they can last for decade\\nupon decade upon decade. - [Speaker] Tariff policy is kind of old. Even by the chicken war, they were only imposed on\\naround 7% of US imports. Trump's plan for a second term is to bring them back dramatically. - This is the policy\\nthat built this country and this is the policy\\nthat will save our country. - [Speaker] He's proposing a 60% tariff on everything from China\"),\n",
              " Document(metadata={'source': 'https://www.youtube.com/watch?v=_-eHOSq3oqI&t=360s', 'start_seconds': 360, 'start_timestamp': '00:06:00'}, page_content=\"and a 10 or even 20% on every importer from every other country. - Countries are gonna finally, after 75 years, pay us back for all that we've done for the world. - [Speaker] Multiple\\nindependent studies looked at the possible effects. One found it would cost the\\naverage American household $1,700 from higher prices. Another found it could cost\\nmore than 684,000 jobs. And they don't factor in how domestic goods\\nmight get more expensive or retaliatory tariffs\\nfrom other countries.\"),\n",
              " Document(metadata={'source': 'https://www.youtube.com/watch?v=_-eHOSq3oqI&t=390s', 'start_seconds': 390, 'start_timestamp': '00:06:30'}, page_content=\"- They're not gonna take\\nthat this lying down. They're not going to change\\ntheir behavior in some way to appease the administration\\nthat imposes such tariffs. They're going to retaliate. So not only will US import shrink, but US exports will shrink as well. - [Speaker] Trump wants\\nto use these tariffs as a revenue stream for\\nthe US to pay for tax cuts. - Whereas tariffs on\\nforeign countries go up, taxes on American workers\\nand families come down. - [Speaker] Studies found his\\nproposal would likely bring in\"),\n",
              " Document(metadata={'source': 'https://www.youtube.com/watch?v=_-eHOSq3oqI&t=420s', 'start_seconds': 420, 'start_timestamp': '00:07:00'}, page_content=\"around a quarter of a\\ntrillion dollars per year, about 5% of what the federal government currently brings in with taxes. So if tariffs are harmful,\\nalways harmful even to the economy, why is\\nTrump so focused on them? In the last 20 years, China has gotten aggressive\\ninvesting in manufacturing to become the world's largest exporter. Even today, they invest\\nmore than any other country. It has let them export things like steel and aluminum at below market values. That coupled with numerous\\ntrade rule violations- - Allowed President Trump\"),\n",
              " Document(metadata={'source': 'https://www.youtube.com/watch?v=_-eHOSq3oqI&t=450s', 'start_seconds': 450, 'start_timestamp': '00:07:30'}, page_content=\"to really restart the whole\\ndiscussion about using tariffs to achieve certain objectives such as punishing other countries. And the Biden administration\\nhas just continued that. So the whole environment\\nhas really changed from 20 years ago when trade policy was\\npretty quiet business, and now we're talking about\\nindustrial policy, tariffs, subsidies, and all these\\ndifferent interventions because the whole global and geopolitical environment\\nhas changed quite dramatically. - [Speaker] And it would\\nchange even more dramatically\"),\n",
              " Document(metadata={'source': 'https://www.youtube.com/watch?v=_-eHOSq3oqI&t=480s', 'start_seconds': 480, 'start_timestamp': '00:08:00'}, page_content=\"with Trump's proposed tariff plan. In the short run, we know\\nthe economy will suffer. In the long run, no one really knows. Will it be a war between the\\nUS and the rest of the world or the western world against China? Trump wants to play a game\\nof chicken to find out.\")]"
            ]
          },
          "metadata": {},
          "execution_count": 20
        }
      ]
    },
    {
      "cell_type": "code",
      "source": [
        "text_splitter = RecursiveCharacterTextSplitter(\n",
        "    chunk_size = 700,\n",
        "    chunk_overlap = 150\n",
        ")"
      ],
      "metadata": {
        "id": "N71nWs5tniNi"
      },
      "execution_count": null,
      "outputs": []
    },
    {
      "cell_type": "code",
      "source": [
        "splits = text_splitter.split_documents(content)\n",
        "len(splits)"
      ],
      "metadata": {
        "colab": {
          "base_uri": "https://localhost:8080/"
        },
        "id": "R78NdOhhn0jR",
        "outputId": "1fc74063-5056-4923-d2ca-9a6e85f38557"
      },
      "execution_count": null,
      "outputs": [
        {
          "output_type": "execute_result",
          "data": {
            "text/plain": [
              "17"
            ]
          },
          "metadata": {},
          "execution_count": 22
        }
      ]
    },
    {
      "cell_type": "code",
      "source": [
        "splits"
      ],
      "metadata": {
        "colab": {
          "base_uri": "https://localhost:8080/"
        },
        "id": "UUKBPM23n2Va",
        "outputId": "cb27170f-852b-4db5-a4e9-4915bd5baf69"
      },
      "execution_count": null,
      "outputs": [
        {
          "output_type": "execute_result",
          "data": {
            "text/plain": [
              "[Document(metadata={'source': 'https://www.youtube.com/watch?v=_-eHOSq3oqI&t=0s', 'start_seconds': 0, 'start_timestamp': '00:00:00'}, page_content=\"- [Speaker] Before we get into tariffs,- - The heart of the Donald\\nTrump economic plan. - [Speaker] We should talk\\nabout the chicken war. - The chicken war is\\na cluckin' good story. - [Speaker] In post World\\nWar II, West Germany, people started eating a lot of chicken, specifically American chicken. Midway through 1962, US\\nfarmers were on track to sell more than $50\\nmillion worth, half a billion in today's money. This made European farmers mad. So the organization that later\\nbecame the European Union\"),\n",
              " Document(metadata={'source': 'https://www.youtube.com/watch?v=_-eHOSq3oqI&t=30s', 'start_seconds': 30, 'start_timestamp': '00:00:30'}, page_content=\"put a tariff on chicken A five pound chicken that\\nstarted as $1.60 became $2.25. Imports quickly dropped. US chicken farmers and\\npoliticians were furious. - And we thought, Germany's\\nour big market for chicken. And so if we hurt the\\nGermans, maybe we'll get them to change their mind on chicken. - [Speaker] So the US put\\na 25% tariff on trucks like Germany's Volkswagen and it worked. Their truck sales in the US fell by half, and they never really recovered.\"),\n",
              " Document(metadata={'source': 'https://www.youtube.com/watch?v=_-eHOSq3oqI&t=60s', 'start_seconds': 60, 'start_timestamp': '00:01:00'}, page_content=\"Meanwhile, Germans paid\\nmore for their chicken, and Americans had fewer truck options. It's kind of a perfect\\nexample of what tariffs do. Hurt consumers while protecting\\nvery specific industries or attempt to get countries\\nto change their behavior. While they haven't been a large part of trade policy in decades, former President Donald\\nTrump wants to change that. - Some might say it's\\neconomic nationalism. I call it common sense. I call it America first.\"),\n",
              " Document(metadata={'source': 'https://www.youtube.com/watch?v=_-eHOSq3oqI&t=90s', 'start_seconds': 90, 'start_timestamp': '00:01:30'}, page_content=\"- President Trump has\\nreally sort of brought a lot of people out to think that\\ntariffs might be something that's useful in America's\\neconomic arsenal in a way that hasn't been used in the past. - [Speaker] Here's how tariffs work and what Trump's proposals would do. Let's start in 2018 when\\nPresident Trump put tariffs on- - Washing machines. We're going to benefit our consumers and we're gonna create a lot of jobs. - [Speaker] Since then,\\nwhenever a washing machine is imported to the US, the company on the US side doing\\nthe importing pays a tariff\"),\n",
              " Document(metadata={'source': 'https://www.youtube.com/watch?v=_-eHOSq3oqI&t=120s', 'start_seconds': 120, 'start_timestamp': '00:02:00'}, page_content=\"to the US government. - Their margins are pretty low. They've gotta pass that price on to consumers who ultimately pay it. That's the whole point in\\nsome sense, to reduce demand for those goods and create\\nspace for domestic producers. - [Speaker] After the tariffs,\\nnot only did the price of imported washing machines go up, so did the ones made in the US. - There's this myth out\\nthere that if we tax imports, domestic producers won't\\nchange their prices. And that's not the case. You're creating more demand for them. - [Speaker] So naturally\\nthe price goes up.\"),\n",
              " Document(metadata={'source': 'https://www.youtube.com/watch?v=_-eHOSq3oqI&t=150s', 'start_seconds': 150, 'start_timestamp': '00:02:30'}, page_content=\"And it wasn't just washers. Dryers went up in price too, even though they weren't\\npart of the tariffs. - Usually it's the case,\\nif you buy a washer, you buy a dryer. So even though dryers\\nweren't directly affected by the tariff, they\\nwere indirectly affected by the shift in demand. - [Speaker] Now, it wasn't all bad. These tariffs did- - Create a lot of jobs. - [Speaker] About 1,800, mostly from those foreign\\ncompanies like Samsung and LG opening plants in the US and a study found the US\\ncollected $82 million annually. But because of those price increases,\"),\n",
              " Document(metadata={'source': 'https://www.youtube.com/watch?v=_-eHOSq3oqI&t=180s', 'start_seconds': 180, 'start_timestamp': '00:03:00'}, page_content=\"it cost consumers 1.5 billion more. So they basically paid $815,000 per job. - This is a very expensive\\njob creation program. And so that's one another reason why economists don't like tariffs. They're much more cost\\neffective, more efficient ways of increasing employment\\nin those industries. - [Speaker] These weren't the\\nonly tariffs Trump created in 2018. The big ones were on- - Steel and aluminum. - Those were really\\ndesigned to punish China\"),\n",
              " Document(metadata={'source': 'https://www.youtube.com/watch?v=_-eHOSq3oqI&t=210s', 'start_seconds': 210, 'start_timestamp': '00:03:30'}, page_content=\"for its transgressions of\\ninternational trade rules. - [Speaker] Also for national security. They're used to make a\\nlot of military equipment, but also everyday things like cars. - All the industries that use steel have to pay the higher price that\\nsqueezes their profit margins. And it also puts them at\\na competitive disadvantage against foreign producers of\\nthose same goods who don't have to pay those inflated\\ncosts for their inputs. And so a lot of studies have\\nshown that you lose jobs as many if not more jobs in\\nthose downstream industries\"),\n",
              " Document(metadata={'source': 'https://www.youtube.com/watch?v=_-eHOSq3oqI&t=240s', 'start_seconds': 240, 'start_timestamp': '00:04:00'}, page_content=\"as you gain in the upstream industries that are being protected by the tariffs. - [Speaker] Many studies on the 2018 tariffs found\\nsome pros, some cons. Manufacturing jobs, which were on the decline didn't increase, but they did level out. The overall economy lost jobs mostly in those downstream industries, and the cost of the tariffs were passed on to US companies and consumers. So not great for the economy, but it did motivate US\\ncompanies to move out of China and made supply chains more resilient.\"),\n",
              " Document(metadata={'source': 'https://www.youtube.com/watch?v=_-eHOSq3oqI&t=270s', 'start_seconds': 270, 'start_timestamp': '00:04:30'}, page_content=\"But it didn't change\\nmuch of China's behavior and in many ways they\\nbecame more aggressive. But here's the thing, even with\\nall the economic downsides, a review by the Biden administration suggested Trump's tariffs should remain and the administration should add or increase them, which they did. - Once tariffs get in place,\\nthere are two factors that sort of keep them in place for some time. - First of all, they're gonna\\nbe domestic interest groups that have a stake in seating\\nthose tariffs maintained 'cause they like the extra\\nmarket share that they've gained\"),\n",
              " Document(metadata={'source': 'https://www.youtube.com/watch?v=_-eHOSq3oqI&t=300s', 'start_seconds': 300, 'start_timestamp': '00:05:00'}, page_content=\"as a result of those tariffs. And second of all, tariffs\\nare a bargaining chip. So why would we sort of\\nunilaterally get rid of these, even if there's some economic\\nbenefits when we might use it in some negotiations down the road, - [Speaker] Tariffs are\\nreally hard to remove. It's why 60 years later there's still a 25% tariff on trucks, even though US chicken\\nfarmers no longer care about selling in Europe. - So we're still living with\\nthe legacy of the chicken war. So that's sort of another\\nlesson of history is you have to be careful about imposing these tariffs\"),\n",
              " Document(metadata={'source': 'https://www.youtube.com/watch?v=_-eHOSq3oqI&t=330s', 'start_seconds': 330, 'start_timestamp': '00:05:30'}, page_content=\"because you think you're doing it for short term strategic reasons or you're just helping out\\nthis industry temporarily. But they can last for decade\\nupon decade upon decade. - [Speaker] Tariff policy is kind of old. Even by the chicken war, they were only imposed on\\naround 7% of US imports. Trump's plan for a second term is to bring them back dramatically. - This is the policy\\nthat built this country and this is the policy\\nthat will save our country. - [Speaker] He's proposing a 60% tariff on everything from China\"),\n",
              " Document(metadata={'source': 'https://www.youtube.com/watch?v=_-eHOSq3oqI&t=360s', 'start_seconds': 360, 'start_timestamp': '00:06:00'}, page_content=\"and a 10 or even 20% on every importer from every other country. - Countries are gonna finally, after 75 years, pay us back for all that we've done for the world. - [Speaker] Multiple\\nindependent studies looked at the possible effects. One found it would cost the\\naverage American household $1,700 from higher prices. Another found it could cost\\nmore than 684,000 jobs. And they don't factor in how domestic goods\\nmight get more expensive or retaliatory tariffs\\nfrom other countries.\"),\n",
              " Document(metadata={'source': 'https://www.youtube.com/watch?v=_-eHOSq3oqI&t=390s', 'start_seconds': 390, 'start_timestamp': '00:06:30'}, page_content=\"- They're not gonna take\\nthat this lying down. They're not going to change\\ntheir behavior in some way to appease the administration\\nthat imposes such tariffs. They're going to retaliate. So not only will US import shrink, but US exports will shrink as well. - [Speaker] Trump wants\\nto use these tariffs as a revenue stream for\\nthe US to pay for tax cuts. - Whereas tariffs on\\nforeign countries go up, taxes on American workers\\nand families come down. - [Speaker] Studies found his\\nproposal would likely bring in\"),\n",
              " Document(metadata={'source': 'https://www.youtube.com/watch?v=_-eHOSq3oqI&t=420s', 'start_seconds': 420, 'start_timestamp': '00:07:00'}, page_content=\"around a quarter of a\\ntrillion dollars per year, about 5% of what the federal government currently brings in with taxes. So if tariffs are harmful,\\nalways harmful even to the economy, why is\\nTrump so focused on them? In the last 20 years, China has gotten aggressive\\ninvesting in manufacturing to become the world's largest exporter. Even today, they invest\\nmore than any other country. It has let them export things like steel and aluminum at below market values. That coupled with numerous\\ntrade rule violations- - Allowed President Trump\"),\n",
              " Document(metadata={'source': 'https://www.youtube.com/watch?v=_-eHOSq3oqI&t=450s', 'start_seconds': 450, 'start_timestamp': '00:07:30'}, page_content=\"to really restart the whole\\ndiscussion about using tariffs to achieve certain objectives such as punishing other countries. And the Biden administration\\nhas just continued that. So the whole environment\\nhas really changed from 20 years ago when trade policy was\\npretty quiet business, and now we're talking about\\nindustrial policy, tariffs, subsidies, and all these\\ndifferent interventions because the whole global and geopolitical environment\\nhas changed quite dramatically. - [Speaker] And it would\\nchange even more dramatically\"),\n",
              " Document(metadata={'source': 'https://www.youtube.com/watch?v=_-eHOSq3oqI&t=480s', 'start_seconds': 480, 'start_timestamp': '00:08:00'}, page_content=\"with Trump's proposed tariff plan. In the short run, we know\\nthe economy will suffer. In the long run, no one really knows. Will it be a war between the\\nUS and the rest of the world or the western world against China? Trump wants to play a game\\nof chicken to find out.\")]"
            ]
          },
          "metadata": {},
          "execution_count": 23
        }
      ]
    },
    {
      "cell_type": "code",
      "source": [
        "sentence1 = \"How expensive it is going to be having a car?\"\n",
        "sentence2 = \"Crude Oil is expected to trade at 59.23 USD/BBL by the end of this quarter, according to Trading Economics global macro models and analysts expectations.\"\n",
        "sentence3 = \"The Federal Reserve System (often shortened to the Federal Reserve, or simply the Fed) is the central banking system of the United States. It was created on December 23, 1913, with the enactment of the Federal Reserve Act, after a series of financial panics\""
      ],
      "metadata": {
        "id": "lBB8zRnHo8q2"
      },
      "execution_count": null,
      "outputs": []
    },
    {
      "cell_type": "code",
      "source": [
        "embedding1 = embeddings.embed_query(sentence1)\n",
        "embedding2 = embeddings.embed_query(sentence2)\n",
        "embedding3 = embeddings.embed_query(sentence3)"
      ],
      "metadata": {
        "id": "N_fk_QtMpcx7"
      },
      "execution_count": null,
      "outputs": []
    },
    {
      "cell_type": "code",
      "source": [
        "print(\"Calculating similarity between...\")\n",
        "print(sentence1)\n",
        "print(sentence2)\n",
        "np.dot(embedding1, embedding2)"
      ],
      "metadata": {
        "colab": {
          "base_uri": "https://localhost:8080/"
        },
        "id": "4mfZQ7bZspcl",
        "outputId": "f5ce8df9-b51b-4ac4-de5d-63c8f8df184e"
      },
      "execution_count": null,
      "outputs": [
        {
          "output_type": "stream",
          "name": "stdout",
          "text": [
            "Calculating similarity between...\n",
            "How expensive it is going to be having a car?\n",
            "Crude Oil is expected to trade at 59.23 USD/BBL by the end of this quarter, according to Trading Economics global macro models and analysts expectations.\n"
          ]
        },
        {
          "output_type": "execute_result",
          "data": {
            "text/plain": [
              "np.float64(0.26424480251305743)"
            ]
          },
          "metadata": {},
          "execution_count": 46
        }
      ]
    },
    {
      "cell_type": "code",
      "source": [
        "print(\"Calculating similarity between...\")\n",
        "print(sentence1)\n",
        "print(sentence3)\n",
        "np.dot(embedding1, embedding3)"
      ],
      "metadata": {
        "colab": {
          "base_uri": "https://localhost:8080/"
        },
        "id": "d2lRwFLxsq3P",
        "outputId": "41f55d2c-7890-4d16-cff7-8000a0eae695"
      },
      "execution_count": null,
      "outputs": [
        {
          "output_type": "stream",
          "name": "stdout",
          "text": [
            "Calculating similarity between...\n",
            "How expensive it is going to be having a car?\n",
            "The Federal Reserve System (often shortened to the Federal Reserve, or simply the Fed) is the central banking system of the United States. It was created on December 23, 1913, with the enactment of the Federal Reserve Act, after a series of financial panics\n"
          ]
        },
        {
          "output_type": "execute_result",
          "data": {
            "text/plain": [
              "np.float64(0.12680274771276878)"
            ]
          },
          "metadata": {},
          "execution_count": 47
        }
      ]
    },
    {
      "cell_type": "code",
      "source": [
        "persist_directory = 'docs/chroma/'"
      ],
      "metadata": {
        "id": "rV4SwQ37s-rf"
      },
      "execution_count": null,
      "outputs": []
    },
    {
      "cell_type": "code",
      "source": [
        "vectordb = Chroma.from_documents(\n",
        "    documents=splits,\n",
        "    embedding=embeddings,\n",
        "    persist_directory=persist_directory\n",
        ")"
      ],
      "metadata": {
        "id": "d1WzbnN8tBBj"
      },
      "execution_count": null,
      "outputs": []
    },
    {
      "cell_type": "code",
      "source": [
        "question = \"How has the last administration responded to Trump’s tariffs?\"\n",
        "docs = vectordb.max_marginal_relevance_search(question,k=3)"
      ],
      "metadata": {
        "id": "mciqvzDRuFM_"
      },
      "execution_count": null,
      "outputs": []
    },
    {
      "cell_type": "code",
      "source": [
        "docs"
      ],
      "metadata": {
        "colab": {
          "base_uri": "https://localhost:8080/"
        },
        "id": "WppWLpiBuw1S",
        "outputId": "fef549c3-7d03-41ea-8d1f-7015a1fc014a"
      },
      "execution_count": null,
      "outputs": [
        {
          "output_type": "execute_result",
          "data": {
            "text/plain": [
              "[Document(metadata={'start_timestamp': '00:04:30', 'source': 'https://www.youtube.com/watch?v=_-eHOSq3oqI&t=270s', 'start_seconds': 270}, page_content=\"But it didn't change\\nmuch of China's behavior and in many ways they\\nbecame more aggressive. But here's the thing, even with\\nall the economic downsides, a review by the Biden administration suggested Trump's tariffs should remain and the administration should add or increase them, which they did. - Once tariffs get in place,\\nthere are two factors that sort of keep them in place for some time. - First of all, they're gonna\\nbe domestic interest groups that have a stake in seating\\nthose tariffs maintained 'cause they like the extra\\nmarket share that they've gained\"),\n",
              " Document(metadata={'start_timestamp': '00:01:30', 'start_seconds': 90, 'source': 'https://www.youtube.com/watch?v=_-eHOSq3oqI&t=90s'}, page_content=\"- President Trump has\\nreally sort of brought a lot of people out to think that\\ntariffs might be something that's useful in America's\\neconomic arsenal in a way that hasn't been used in the past. - [Speaker] Here's how tariffs work and what Trump's proposals would do. Let's start in 2018 when\\nPresident Trump put tariffs on- - Washing machines. We're going to benefit our consumers and we're gonna create a lot of jobs. - [Speaker] Since then,\\nwhenever a washing machine is imported to the US, the company on the US side doing\\nthe importing pays a tariff\"),\n",
              " Document(metadata={'source': 'https://www.youtube.com/watch?v=_-eHOSq3oqI&t=420s', 'start_timestamp': '00:07:00', 'start_seconds': 420}, page_content=\"around a quarter of a\\ntrillion dollars per year, about 5% of what the federal government currently brings in with taxes. So if tariffs are harmful,\\nalways harmful even to the economy, why is\\nTrump so focused on them? In the last 20 years, China has gotten aggressive\\ninvesting in manufacturing to become the world's largest exporter. Even today, they invest\\nmore than any other country. It has let them export things like steel and aluminum at below market values. That coupled with numerous\\ntrade rule violations- - Allowed President Trump\")]"
            ]
          },
          "metadata": {},
          "execution_count": 31
        }
      ]
    },
    {
      "cell_type": "code",
      "source": [
        "metadata_field_info = [\n",
        "    AttributeInfo(\n",
        "        name=\"timestamp\",\n",
        "        description=\"The time in the video in format HH:MM:SS\",\n",
        "        type=\"string\",\n",
        "    )\n",
        "]"
      ],
      "metadata": {
        "id": "Ub2VW36MvMma"
      },
      "execution_count": null,
      "outputs": []
    },
    {
      "cell_type": "code",
      "source": [
        "document_content_description = \"Why Economists Hate Trump's Tariff Plan | WSJ Wall Street Journal\"\n",
        "llm = Cohere(model=\"command-r-plus\")\n",
        "retriever = SelfQueryRetriever.from_llm(\n",
        "    llm,\n",
        "    vectordb,\n",
        "    document_content_description,\n",
        "    metadata_field_info,\n",
        "    verbose=True\n",
        ")"
      ],
      "metadata": {
        "id": "G7y-AVS2vYSl",
        "colab": {
          "base_uri": "https://localhost:8080/"
        },
        "outputId": "c526f6a0-70fa-4ba4-e7f5-f412ab588dbe"
      },
      "execution_count": null,
      "outputs": [
        {
          "output_type": "stream",
          "name": "stderr",
          "text": [
            "<ipython-input-33-e318c8c32776>:2: LangChainDeprecationWarning: The class `Cohere` was deprecated in LangChain 0.1.14 and will be removed in 1.0. An updated version of the class exists in the :class:`~langchain-cohere package and should be used instead. To use it run `pip install -U :class:`~langchain-cohere` and import as `from :class:`~langchain_cohere import Cohere``.\n",
            "  llm = Cohere(model=\"command-r-plus\")\n"
          ]
        }
      ]
    },
    {
      "cell_type": "code",
      "source": [
        "llm.model"
      ],
      "metadata": {
        "colab": {
          "base_uri": "https://localhost:8080/",
          "height": 35
        },
        "id": "m0ccnkRW0jDv",
        "outputId": "9dad2e9a-5f43-404c-aac7-6a5ee9732e60"
      },
      "execution_count": null,
      "outputs": [
        {
          "output_type": "execute_result",
          "data": {
            "text/plain": [
              "'command-r-plus'"
            ],
            "application/vnd.google.colaboratory.intrinsic+json": {
              "type": "string"
            }
          },
          "metadata": {},
          "execution_count": 34
        }
      ]
    },
    {
      "cell_type": "code",
      "source": [
        "print(\"question\", question)\n",
        "docs = retriever.get_relevant_documents(question)\n",
        "docs"
      ],
      "metadata": {
        "colab": {
          "base_uri": "https://localhost:8080/"
        },
        "id": "GG2xawTDvgbp",
        "outputId": "3238b294-7fd3-4638-ed95-cf513db02ffc"
      },
      "execution_count": null,
      "outputs": [
        {
          "output_type": "stream",
          "name": "stdout",
          "text": [
            "question How has the last administration responded to Trump’s tariffs?\n"
          ]
        },
        {
          "output_type": "stream",
          "name": "stderr",
          "text": [
            "<ipython-input-35-8c9d69fcf25a>:2: LangChainDeprecationWarning: The method `BaseRetriever.get_relevant_documents` was deprecated in langchain-core 0.1.46 and will be removed in 1.0. Use :meth:`~invoke` instead.\n",
            "  docs = retriever.get_relevant_documents(question)\n"
          ]
        },
        {
          "output_type": "execute_result",
          "data": {
            "text/plain": [
              "[Document(metadata={'start_seconds': 390, 'start_timestamp': '00:06:30', 'source': 'https://www.youtube.com/watch?v=_-eHOSq3oqI&t=390s'}, page_content=\"- They're not gonna take\\nthat this lying down. They're not going to change\\ntheir behavior in some way to appease the administration\\nthat imposes such tariffs. They're going to retaliate. So not only will US import shrink, but US exports will shrink as well. - [Speaker] Trump wants\\nto use these tariffs as a revenue stream for\\nthe US to pay for tax cuts. - Whereas tariffs on\\nforeign countries go up, taxes on American workers\\nand families come down. - [Speaker] Studies found his\\nproposal would likely bring in\"),\n",
              " Document(metadata={'source': 'https://www.youtube.com/watch?v=_-eHOSq3oqI&t=270s', 'start_timestamp': '00:04:30', 'start_seconds': 270}, page_content=\"But it didn't change\\nmuch of China's behavior and in many ways they\\nbecame more aggressive. But here's the thing, even with\\nall the economic downsides, a review by the Biden administration suggested Trump's tariffs should remain and the administration should add or increase them, which they did. - Once tariffs get in place,\\nthere are two factors that sort of keep them in place for some time. - First of all, they're gonna\\nbe domestic interest groups that have a stake in seating\\nthose tariffs maintained 'cause they like the extra\\nmarket share that they've gained\"),\n",
              " Document(metadata={'source': 'https://www.youtube.com/watch?v=_-eHOSq3oqI&t=90s', 'start_seconds': 90, 'start_timestamp': '00:01:30'}, page_content=\"- President Trump has\\nreally sort of brought a lot of people out to think that\\ntariffs might be something that's useful in America's\\neconomic arsenal in a way that hasn't been used in the past. - [Speaker] Here's how tariffs work and what Trump's proposals would do. Let's start in 2018 when\\nPresident Trump put tariffs on- - Washing machines. We're going to benefit our consumers and we're gonna create a lot of jobs. - [Speaker] Since then,\\nwhenever a washing machine is imported to the US, the company on the US side doing\\nthe importing pays a tariff\"),\n",
              " Document(metadata={'source': 'https://www.youtube.com/watch?v=_-eHOSq3oqI&t=450s', 'start_timestamp': '00:07:30', 'start_seconds': 450}, page_content=\"to really restart the whole\\ndiscussion about using tariffs to achieve certain objectives such as punishing other countries. And the Biden administration\\nhas just continued that. So the whole environment\\nhas really changed from 20 years ago when trade policy was\\npretty quiet business, and now we're talking about\\nindustrial policy, tariffs, subsidies, and all these\\ndifferent interventions because the whole global and geopolitical environment\\nhas changed quite dramatically. - [Speaker] And it would\\nchange even more dramatically\")]"
            ]
          },
          "metadata": {},
          "execution_count": 35
        }
      ]
    },
    {
      "cell_type": "code",
      "source": [
        "qa_chain = RetrievalQA.from_chain_type(\n",
        "    llm,\n",
        "    retriever=vectordb.as_retriever()\n",
        ")"
      ],
      "metadata": {
        "id": "tI9iAMfR-RZ2"
      },
      "execution_count": null,
      "outputs": []
    },
    {
      "cell_type": "code",
      "source": [
        "result = qa_chain({\"query\": question})"
      ],
      "metadata": {
        "id": "KMXK-8Gi-SpF",
        "colab": {
          "base_uri": "https://localhost:8080/"
        },
        "outputId": "97659055-87c9-4000-f125-420dfe104205"
      },
      "execution_count": null,
      "outputs": [
        {
          "output_type": "stream",
          "name": "stderr",
          "text": [
            "<ipython-input-37-ef85128c39b8>:1: LangChainDeprecationWarning: The method `Chain.__call__` was deprecated in langchain 0.1.0 and will be removed in 1.0. Use :meth:`~invoke` instead.\n",
            "  result = qa_chain({\"query\": question})\n"
          ]
        }
      ]
    },
    {
      "cell_type": "code",
      "source": [
        "result[\"result\"]"
      ],
      "metadata": {
        "colab": {
          "base_uri": "https://localhost:8080/",
          "height": 35
        },
        "id": "Du5OSRdw-T6e",
        "outputId": "b5866207-b62a-41d1-bb2c-a72af88be82f"
      },
      "execution_count": null,
      "outputs": [
        {
          "output_type": "execute_result",
          "data": {
            "text/plain": [
              "\"The Biden administration reviewed Trump's tariffs and decided to keep and increase them.\""
            ],
            "application/vnd.google.colaboratory.intrinsic+json": {
              "type": "string"
            }
          },
          "metadata": {},
          "execution_count": 38
        }
      ]
    },
    {
      "cell_type": "code",
      "source": [
        "qa_chain = RetrievalQA.from_chain_type(\n",
        "    llm,\n",
        "    retriever=vectordb.as_retriever()\n",
        ")"
      ],
      "metadata": {
        "id": "VWig5lhLHnhm"
      },
      "execution_count": null,
      "outputs": []
    },
    {
      "cell_type": "code",
      "source": [
        "result = qa_chain({\"query\": question})"
      ],
      "metadata": {
        "id": "5U2MO7qlH719"
      },
      "execution_count": null,
      "outputs": []
    },
    {
      "cell_type": "code",
      "source": [
        "result[\"result\"]"
      ],
      "metadata": {
        "colab": {
          "base_uri": "https://localhost:8080/",
          "height": 35
        },
        "id": "iXIVud1uHpUy",
        "outputId": "c05513b8-116a-487a-bb97-1c2b1189a440"
      },
      "execution_count": null,
      "outputs": [
        {
          "output_type": "execute_result",
          "data": {
            "text/plain": [
              "\"The Biden Administration suggested Trump's tariffs should remain in place.\""
            ],
            "application/vnd.google.colaboratory.intrinsic+json": {
              "type": "string"
            }
          },
          "metadata": {},
          "execution_count": 41
        }
      ]
    },
    {
      "cell_type": "code",
      "source": [
        "start_seconds = docs[0].metadata[\"start_seconds\"]\n",
        "start_seconds"
      ],
      "metadata": {
        "colab": {
          "base_uri": "https://localhost:8080/"
        },
        "id": "roCpMZll-7St",
        "outputId": "a9534b86-98be-42fc-8f27-cc0721d5bb2f"
      },
      "execution_count": null,
      "outputs": [
        {
          "output_type": "execute_result",
          "data": {
            "text/plain": [
              "390"
            ]
          },
          "metadata": {},
          "execution_count": 42
        }
      ]
    },
    {
      "cell_type": "code",
      "source": [
        "from IPython.display import Markdown\n",
        "\n",
        "link = YOUTUBE_VIDEO_LINK+\"?t=\"+str(start_seconds)\n",
        "Markdown(f\"[{link}]({link})\")\n"
      ],
      "metadata": {
        "colab": {
          "base_uri": "https://localhost:8080/",
          "height": 46
        },
        "id": "6ByqOe1u_gHI",
        "outputId": "321a0a3f-5ac7-4478-82db-34383b05fab5"
      },
      "execution_count": null,
      "outputs": [
        {
          "output_type": "execute_result",
          "data": {
            "text/plain": [
              "<IPython.core.display.Markdown object>"
            ],
            "text/markdown": "[https://youtu.be/_-eHOSq3oqI?t=390](https://youtu.be/_-eHOSq3oqI?t=390)"
          },
          "metadata": {},
          "execution_count": 43
        }
      ]
    },
    {
      "cell_type": "code",
      "source": [],
      "metadata": {
        "id": "-fBvesql_qij"
      },
      "execution_count": null,
      "outputs": []
    }
  ]
}